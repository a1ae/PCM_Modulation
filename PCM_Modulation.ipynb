{
 "cells": [
  {
   "cell_type": "markdown",
   "id": "aea52a41-2711-4c32-b5bf-3ef0d84beba4",
   "metadata": {},
   "source": [
    "# PCM MODULATION"
   ]
  },
  {
   "cell_type": "markdown",
   "id": "609040ae-ec98-4ea1-a970-1124413d1398",
   "metadata": {},
   "source": [
    "### Import libraries"
   ]
  },
  {
   "cell_type": "code",
   "execution_count": 5,
   "id": "ae19cb7e-a92b-4752-9422-feafa7349f2a",
   "metadata": {},
   "outputs": [],
   "source": [
    "import numpy as np\n",
    "import matplotlib.pyplot as plt"
   ]
  },
  {
   "cell_type": "markdown",
   "id": "3a713b2c-c805-4622-b4eb-04ffca90c50a",
   "metadata": {},
   "source": [
    "### Input Analog Singnal"
   ]
  },
  {
   "cell_type": "code",
   "execution_count": 6,
   "id": "e7d41dd3-9a19-4f49-bd6e-5b381dc8284c",
   "metadata": {},
   "outputs": [],
   "source": [
    "sampling_rate = 1000  # Hz\n",
    "duration = 1.0       # sec\n",
    "carrier_frequency = 50  # Hz\n",
    "t = np.linspace(0, duration, int(sampling_rate * duration), endpoint=False)  # Time vector\n",
    "input_signal = np.sin(2 * np.pi * 5 * t)  # Input signal 5 Hz"
   ]
  },
  {
   "cell_type": "markdown",
   "id": "f36cc582-230b-4159-956f-3c50761cf2d4",
   "metadata": {},
   "source": [
    "### Carrier Singnal (square wave)"
   ]
  },
  {
   "cell_type": "code",
   "execution_count": 14,
   "id": "3f0917e1-9412-45a8-8c8f-24492aa59f1d",
   "metadata": {},
   "outputs": [],
   "source": [
    "def carrier(frequency, sampling_rate, duration):\n",
    "    t = np.linspace(0, duration, int(sampling_rate * duration), endpoint=False)\n",
    "    carrier_signal = 0.5 * (1 + np.sign(np.sin(2 * np.pi * frequency * t)))\n",
    "    return carrier_signal\n",
    "    \n",
    "carrier_signal = carrier(carrier_frequency, sampling_rate, duration) # generating carrier signal"
   ]
  },
  {
   "cell_type": "markdown",
   "id": "41af3063-a7a1-4d6f-b225-781a4b5bf9b2",
   "metadata": {},
   "source": [
    "### Simple PAM Modulation   VS   Flat-Top PAM Modulation"
   ]
  },
  {
   "cell_type": "code",
   "execution_count": 11,
   "id": "5eafa5a9-0c4b-4b9f-b661-4e115917a9c3",
   "metadata": {},
   "outputs": [],
   "source": [
    "def Simple_pam(signal, carrier_signal):\n",
    "    normalized_signal = (signal - np.min(signal)) / (np.max(signal) - np.min(signal))\n",
    "    pam_signal = normalized_signal * carrier_signal\n",
    "    return pam_signal\n",
    "    \n",
    "pam_signal = Simple_pam(input_signal, carrier_signal)\n",
    "\n",
    "def flat_top_pam(signal, carrier_frequency, sampling_rate):\n",
    "    normalized_signal = (signal - np.min(signal)) / (np.max(signal) - np.min(signal))\n",
    "    flat_top_pam_signal = np.zeros_like(signal)\n",
    "    period = int(sampling_rate / carrier_frequency)\n",
    "    for i in range(0, len(signal), period):\n",
    "        flat_top_pam_signal[i:i + period // 4] = normalized_signal[i]  # Short pulse\n",
    "\n",
    "    return flat_top_pam_signal\n",
    "\n",
    "flat_top_pam_signal = flat_top_pam(input_signal, carrier_frequency, sampling_rate)"
   ]
  },
  {
   "cell_type": "markdown",
   "id": "9cc7147d-96de-49e9-99a4-5b2555f70ccd",
   "metadata": {},
   "source": [
    "### PFM Modulation"
   ]
  },
  {
   "cell_type": "code",
   "execution_count": 12,
   "id": "e4fca698-d871-428a-ad95-43b266aa00dd",
   "metadata": {},
   "outputs": [],
   "source": [
    "def pfm(signal, carrier_frequency, sampling_rate):\n",
    "    normalized_signal = (signal - np.min(signal)) / (np.max(signal) - np.min(signal))\n",
    "    pfm_signal = np.zeros_like(signal)\n",
    "    phase = 0\n",
    "    for i in range(len(signal)):\n",
    "        frequency = carrier_frequency + 40 * normalized_signal[i]\n",
    "        phase += 2 * np.pi * frequency / sampling_rate\n",
    "        pfm_signal[i] = 0.5 * (1 + np.sign(np.sin(phase)))\n",
    "    return pfm_signal\n",
    "pfm_signal = pfm(input_signal, carrier_frequency, sampling_rate)"
   ]
  },
  {
   "cell_type": "markdown",
   "id": "34bc52fa-8951-4682-ae7b-33e21b9bfc64",
   "metadata": {},
   "source": [
    "### PPM Modulation"
   ]
  },
  {
   "cell_type": "code",
   "execution_count": 15,
   "id": "64721d4e-38eb-4904-bfcc-65f68060d921",
   "metadata": {},
   "outputs": [],
   "source": [
    "def ppm(signal, carrier_frequency, sampling_rate, pulse_width_samples):\n",
    "    normalized_signal = (signal - np.min(signal)) / (np.max(signal) - np.min(signal))\n",
    "    ppm_signal = np.zeros_like(signal)\n",
    "    period = int(sampling_rate / carrier_frequency)\n",
    "    \n",
    "    for i in range(len(signal)):\n",
    "        if i % period == 0:\n",
    "            shift = int(normalized_signal[i] * period)\n",
    "            ppm_signal[i + shift:i + shift + pulse_width_samples] = 1\n",
    "\n",
    "    return ppm_signal\n",
    "pulse_width_samples = int(0.010 * sampling_rate) # Adjasting the width of the PPM signal's pulses\n",
    "ppm_signal = ppm(input_signal, carrier_frequency, sampling_rate, pulse_width_samples)\n"
   ]
  },
  {
   "cell_type": "markdown",
   "id": "770fa9de-bc14-4a5a-a4e7-cd86a55ad77f",
   "metadata": {},
   "source": [
    "### Plotting signals"
   ]
  },
  {
   "cell_type": "code",
   "execution_count": null,
   "id": "36c88943-c0ef-437e-b9c0-aa944a1a237f",
   "metadata": {},
   "outputs": [],
   "source": [
    "plt.figure(figsize=(12, 14))\n",
    "\n",
    "# Input Signal\n",
    "plt.subplot(5, 1, 1)\n",
    "plt.plot(t, input_signal, color='blue')  # Blue for input signal\n",
    "plt.title(\"Input Signal (5 Hz Sine Wave)\")\n",
    "plt.xlabel(\"Time [s]\")\n",
    "plt.ylabel(\"Amplitude\")\n",
    "\n",
    "# Carrier Signal\n",
    "plt.subplot(5, 1, 2)\n",
    "plt.plot(t, carrier_signal, color='green')  # Green for carrier signal\n",
    "plt.title(\"Carrier Signal (50 Hz Square Wave)\")\n",
    "plt.xlabel(\"Time [s]\")\n",
    "plt.ylabel(\"Amplitude\")\n",
    "\n",
    "# Regular PAM Signal\n",
    "plt.subplot(5, 1, 3)\n",
    "plt.plot(t, pam_signal, color='red')  # Red for PAM signal\n",
    "plt.title(\"Regular PAM Signal (Pulse Amplitude Modulation)\")\n",
    "plt.xlabel(\"Time [s]\")\n",
    "plt.ylabel(\"Amplitude\")\n",
    "\n",
    "# Discrete Flat-Top PAM Signal\n",
    "plt.subplot(5, 1, 4)\n",
    "plt.step(t, flat_top_pam_signal, where='post', color='orange')  # Orange for flat-top PAM signal\n",
    "plt.title(\"Discrete Flat-Top PAM Signal\")\n",
    "plt.xlabel(\"Time [s]\")\n",
    "plt.ylabel(\"Amplitude\")\n",
    "\n",
    "# PPM Signal\n",
    "plt.subplot(5, 1, 5)\n",
    "plt.plot(t, ppm_signal, color='purple')  # Purple for PPM signal\n",
    "plt.title(\"PPM Signal (Pulse Position Modulation)\")\n",
    "plt.xlabel(\"Time [s]\")\n",
    "plt.ylabel(\"Amplitude\")\n",
    "\n",
    "plt.tight_layout()\n",
    "plt.show()\n"
   ]
  }
 ],
 "metadata": {
  "kernelspec": {
   "display_name": "Python 3 (ipykernel)",
   "language": "python",
   "name": "python3"
  },
  "language_info": {
   "codemirror_mode": {
    "name": "ipython",
    "version": 3
   },
   "file_extension": ".py",
   "mimetype": "text/x-python",
   "name": "python",
   "nbconvert_exporter": "python",
   "pygments_lexer": "ipython3",
   "version": "3.11.9"
  }
 },
 "nbformat": 4,
 "nbformat_minor": 5
}
